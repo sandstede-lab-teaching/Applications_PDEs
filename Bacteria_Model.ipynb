{
 "cells": [
  {
   "cell_type": "markdown",
   "metadata": {},
   "source": [
    "### Modelling bacteria populations using a logistic model with diffusion\n",
    "Our goal is to explore the behavior of a population of bacteria in a petri dish when we insert a small quantity of bacteria in the middle of the dish. We model the petri dish by a one-dimensional interval of length $L=1$ and denote by $u(x,t)$ the concentration of bacteria at position $x$ and time $t$. We assume that the bacteria have a growth rate given by the logistic law $au(1-u/K)$, where $a$ is the birth rate of bacteria at low concentrations, and $K$ is the carrying capacity. We also assume that bacteria diffuse with diffusion constant $D>0$. Thus, our PDE model becomes\n",
    "$$\n",
    "\\begin{align}\n",
    "u_t & = D u_{xx} + au(1-u/K), \\quad 0<x<1 \\\\\n",
    "u_x(0,t) & = 0 = u_x(1,t), \\quad t>0\n",
    "\\end{align}\n",
    "$$\n",
    "reflecting the fact bacteria cannot escape through the boundaries of the petri dish. \n",
    "\n",
    "First, we load the necessary Python modules."
   ]
  },
  {
   "cell_type": "code",
   "execution_count": 2,
   "metadata": {},
   "outputs": [],
   "source": [
    "%matplotlib widget\n",
    "\n",
    "import numpy as np\n",
    "import matplotlib.cm as cm\n",
    "import matplotlib.pyplot as plt\n",
    "import matplotlib.animation as animation\n",
    "import matplotlib.colors as colors"
   ]
  },
  {
   "cell_type": "markdown",
   "metadata": {},
   "source": [
    "Next, we define the following functions:\n",
    "* `discrete_laplacian` provides a centered finite-difference approximation of the second derivative $u_{xx}$;\n",
    "* `update_solution` uses the forward Euler method to update the solution to the next time step;\n",
    "* `update_graph` animates the solution."
   ]
  },
  {
   "cell_type": "code",
   "execution_count": 3,
   "metadata": {},
   "outputs": [],
   "source": [
    "def discrete_laplacian(u, bdy):\n",
    "    # periodic boundary conditions:\n",
    "    L = -2*u\n",
    "    L += np.roll(u, -1)\n",
    "    L += np.roll(u, +1)\n",
    "    if bdy == 'Dirichlet':\n",
    "        L[0]  = -2*u[0]+u[1]\n",
    "        L[-1] = -2*u[-1]+u[-2]\n",
    "    elif bdy == 'Neumann':\n",
    "        L[0]  = 2*(-u[0]+u[1])\n",
    "        L[-1] = 2*(-u[-1]+u[-2])\n",
    "    return L\n",
    "\n",
    "def update_solution(f, v, dt, pars, Nframes, Nskip):\n",
    "    n = 0\n",
    "    u = f\n",
    "    v[0, :] = f\n",
    "    d = pars[0]\n",
    "    a = pars[1]\n",
    "    K = pars[2]\n",
    "    while n<Nframes:\n",
    "        n += 1\n",
    "        for k in range(Nskip):\n",
    "            u += (d*discrete_laplacian(u, 'Neumann') + a*u*(1-u/K)) * dt\n",
    "        v[n, :] = u\n",
    "        yield u\n",
    "\n",
    "def update_graph(u, x, line1):\n",
    "    line1.set_data(x, u)"
   ]
  },
  {
   "cell_type": "markdown",
   "metadata": {},
   "source": [
    "In the next cell, we define the parameters of our model, set the initial condition, and run the animation of the solution. Run this cell for $D=0.002, 0.001, 0$ to investigate how different diffusion constants affect the solution. "
   ]
  },
  {
   "cell_type": "code",
   "execution_count": 4,
   "metadata": {},
   "outputs": [
    {
     "data": {
      "application/vnd.jupyter.widget-view+json": {
       "model_id": "0b27cecdabb14fcfa4b3aecbf1820705",
       "version_major": 2,
       "version_minor": 0
      },
      "text/plain": [
       "Canvas(toolbar=Toolbar(toolitems=[('Home', 'Reset original view', 'home', 'home'), ('Back', 'Back to previous …"
      ]
     },
     "metadata": {},
     "output_type": "display_data"
    }
   ],
   "source": [
    "# model parameters\n",
    "L = 1      # domain length\n",
    "D = 0.002  # diffusion coefficient\n",
    "a = 2      # growth rate\n",
    "K = 4      # carrying capacity\n",
    "\n",
    "# numerical parameters\n",
    "N = 100          # grid size\n",
    "\n",
    "# set initial condition\n",
    "x = np.linspace(0, L, N)\n",
    "f = 1.2*K*(np.heaviside(x-0.6*L, 0) - np.heaviside(x-0.7*L, 0))\n",
    "\n",
    "# animation parameters\n",
    "Nsteps = 500\n",
    "Nskip = 1\n",
    "\n",
    "# set time step to satisfy stability criterion (cfl = D*Δt/Δx^2 < 0.5)\n",
    "cfl = 0.4\n",
    "dx = L/(N-1)\n",
    "dt = cfl * dx**2 / D\n",
    "\n",
    "# compute and animate solution\n",
    "Nframes = int(Nsteps/Nskip)\n",
    "v = np.zeros((Nframes, N))\n",
    "pars = (D/dx**2, a, K)\n",
    "\n",
    "fig = plt.figure()\n",
    "ax  = plt.axes(xlim=(0,L), ylim=(np.min(np.min(f)*1.1,0), np.max(np.max(f)*1.1,0)))\n",
    "line1, = ax.plot([], [], linewidth=2, color = \"tab:blue\")\n",
    "line2, = ax.plot(x, f, linewidth=2, color = \"tab:green\")\n",
    "line3  = ax.axhline(y=K, c='grey', linewidth=0.5)\n",
    "ax.set_xlabel('x')\n",
    "ax.set_ylabel('u')\n",
    "plt.legend((line2, line1, line3), ('initial condition u(x,0)', 'concentration u(x,t)', 'u=K'),\n",
    "           bbox_to_anchor=(1.05, 1.0), loc='upper center')\n",
    "ani = animation.FuncAnimation(fig, update_graph,\n",
    "                              update_solution(f, v, dt, pars, Nframes, Nskip),\n",
    "                              fargs=(x, line1), interval=5, blit=True, repeat=False)\n",
    "plt.tight_layout()\n",
    "plt.show()"
   ]
  },
  {
   "cell_type": "markdown",
   "metadata": {},
   "source": [
    "Finally, we visualize the solution in a space-time contour plot."
   ]
  },
  {
   "cell_type": "code",
   "execution_count": 5,
   "metadata": {},
   "outputs": [
    {
     "data": {
      "application/vnd.jupyter.widget-view+json": {
       "model_id": "b2e93812e76a42a1a1cf1338f761b295",
       "version_major": 2,
       "version_minor": 0
      },
      "text/plain": [
       "Canvas(toolbar=Toolbar(toolitems=[('Home', 'Reset original view', 'home', 'home'), ('Back', 'Back to previous …"
      ]
     },
     "metadata": {},
     "output_type": "display_data"
    }
   ],
   "source": [
    "fig = plt.figure()\n",
    "extent = [0, L, 0, Nsteps*dt]\n",
    "colormapoffset = colors.TwoSlopeNorm(vmin=0, vcenter=K)\n",
    "plt.imshow(v, cmap=cm.GnBu, norm=colormapoffset, extent=extent, aspect='auto', origin='lower')\n",
    "plt.title('Solution u(x,t)')\n",
    "plt.xlabel('Space x')\n",
    "plt.ylabel('Time t')\n",
    "plt.colorbar()\n",
    "plt.tight_layout()\n",
    "plt.show()"
   ]
  },
  {
   "cell_type": "code",
   "execution_count": null,
   "metadata": {},
   "outputs": [],
   "source": []
  }
 ],
 "metadata": {
  "kernelspec": {
   "display_name": "Python 3",
   "language": "python",
   "name": "python3"
  },
  "language_info": {
   "codemirror_mode": {
    "name": "ipython",
    "version": 3
   },
   "file_extension": ".py",
   "mimetype": "text/x-python",
   "name": "python",
   "nbconvert_exporter": "python",
   "pygments_lexer": "ipython3",
   "version": "3.7.9"
  },
  "widgets": {
   "application/vnd.jupyter.widget-state+json": {
    "state": {},
    "version_major": 2,
    "version_minor": 0
   }
  }
 },
 "nbformat": 4,
 "nbformat_minor": 4
}
